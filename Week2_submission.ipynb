{
 "cells": [
  {
   "cell_type": "code",
   "execution_count": 49,
   "metadata": {},
   "outputs": [],
   "source": [
    "# importing required libraries\n",
    "\n",
    "import torch\n",
    "import torch.nn as nn\n",
    "import torchvision\n",
    "import torchvision.transforms as transfroms"
   ]
  },
  {
   "cell_type": "code",
   "execution_count": 50,
   "metadata": {},
   "outputs": [],
   "source": [
    "# device setting\n",
    "\n",
    "device = torch.device('cuda' if torch.cuda.is_available else 'cpu')"
   ]
  },
  {
   "cell_type": "code",
   "execution_count": 51,
   "metadata": {},
   "outputs": [],
   "source": [
    "# hyper parameters\n",
    "\n",
    "in_size = 28*28 # image size\n",
    "out_size = 10 # output possibilities\n",
    "num_epochs = 10 # number of times training loop is run\n",
    "batch_size = 50 # images used to train in one batch\n",
    "learning_rate = 0.001 # Learning rate"
   ]
  },
  {
   "cell_type": "code",
   "execution_count": 52,
   "metadata": {},
   "outputs": [],
   "source": [
    "# importing MNIST dataset\n",
    "\n",
    "training_data = torchvision.datasets.MNIST(root='./data', train= True, transform=transfroms.ToTensor(), download=True)\n",
    "testing_data = torchvision.datasets.MNIST(root='./data', train= False, transform=transfroms.ToTensor(), download=True)\n",
    "training_loader = torch.utils.data.DataLoader(dataset=training_data, shuffle=True, batch_size=batch_size)\n",
    "testing_loader = torch.utils.data.DataLoader(dataset=testing_data, shuffle=False, batch_size=batch_size)"
   ]
  },
  {
   "cell_type": "code",
   "execution_count": 53,
   "metadata": {},
   "outputs": [],
   "source": [
    "# defining network\n",
    "\n",
    "class Network(nn.Module):\n",
    "    def __init__(self, in_size, out_size):\n",
    "        super(Network,self).__init__()\n",
    "        self.layer1 = nn.Linear(in_size, 128)\n",
    "        self.layer2 = nn.Linear(128, 64)\n",
    "        self.layer3 = nn.Linear(64, out_size)\n",
    "\n",
    "    def forward(self, x):\n",
    "        out = nn.functional.relu(self.layer1(x))\n",
    "        out = nn.functional.relu(self.layer2(out))\n",
    "        out = self.layer3(out)\n",
    "        return out"
   ]
  },
  {
   "cell_type": "code",
   "execution_count": 54,
   "metadata": {},
   "outputs": [],
   "source": [
    "# initializing the network\n",
    "\n",
    "Neural_network = Network(in_size, out_size).to(device)"
   ]
  },
  {
   "cell_type": "code",
   "execution_count": 55,
   "metadata": {},
   "outputs": [],
   "source": [
    "# loss\n",
    "\n",
    "loss = nn.CrossEntropyLoss()"
   ]
  },
  {
   "cell_type": "code",
   "execution_count": 56,
   "metadata": {},
   "outputs": [],
   "source": [
    "# Optimizer\n",
    "\n",
    "optimizer = torch.optim.Adam(Neural_network.parameters(),lr = learning_rate)"
   ]
  },
  {
   "cell_type": "code",
   "execution_count": 57,
   "metadata": {},
   "outputs": [
    {
     "name": "stdout",
     "output_type": "stream",
     "text": [
      "Epoch: 1/10, Step 100/1200, Loss = 0.7961\n",
      "Epoch: 1/10, Step 200/1200, Loss = 0.2616\n",
      "Epoch: 1/10, Step 300/1200, Loss = 0.2873\n",
      "Epoch: 1/10, Step 400/1200, Loss = 0.3504\n",
      "Epoch: 1/10, Step 500/1200, Loss = 0.2319\n",
      "Epoch: 1/10, Step 600/1200, Loss = 0.1374\n",
      "Epoch: 1/10, Step 700/1200, Loss = 0.0794\n",
      "Epoch: 1/10, Step 800/1200, Loss = 0.2235\n",
      "Epoch: 1/10, Step 900/1200, Loss = 0.1822\n",
      "Epoch: 1/10, Step 1000/1200, Loss = 0.1842\n",
      "Epoch: 1/10, Step 1100/1200, Loss = 0.2121\n",
      "Epoch: 1/10, Step 1200/1200, Loss = 0.3143\n",
      "Epoch: 2/10, Step 100/1200, Loss = 0.1406\n",
      "Epoch: 2/10, Step 200/1200, Loss = 0.1260\n",
      "Epoch: 2/10, Step 300/1200, Loss = 0.0958\n",
      "Epoch: 2/10, Step 400/1200, Loss = 0.1016\n",
      "Epoch: 2/10, Step 500/1200, Loss = 0.2731\n",
      "Epoch: 2/10, Step 600/1200, Loss = 0.0910\n",
      "Epoch: 2/10, Step 700/1200, Loss = 0.1702\n",
      "Epoch: 2/10, Step 800/1200, Loss = 0.0405\n",
      "Epoch: 2/10, Step 900/1200, Loss = 0.0352\n",
      "Epoch: 2/10, Step 1000/1200, Loss = 0.0574\n",
      "Epoch: 2/10, Step 1100/1200, Loss = 0.1378\n",
      "Epoch: 2/10, Step 1200/1200, Loss = 0.2243\n",
      "Epoch: 3/10, Step 100/1200, Loss = 0.1431\n",
      "Epoch: 3/10, Step 200/1200, Loss = 0.1398\n",
      "Epoch: 3/10, Step 300/1200, Loss = 0.0300\n",
      "Epoch: 3/10, Step 400/1200, Loss = 0.2564\n",
      "Epoch: 3/10, Step 500/1200, Loss = 0.1492\n",
      "Epoch: 3/10, Step 600/1200, Loss = 0.1406\n",
      "Epoch: 3/10, Step 700/1200, Loss = 0.0181\n",
      "Epoch: 3/10, Step 800/1200, Loss = 0.0870\n",
      "Epoch: 3/10, Step 900/1200, Loss = 0.2470\n",
      "Epoch: 3/10, Step 1000/1200, Loss = 0.0278\n",
      "Epoch: 3/10, Step 1100/1200, Loss = 0.1938\n",
      "Epoch: 3/10, Step 1200/1200, Loss = 0.0355\n",
      "Epoch: 4/10, Step 100/1200, Loss = 0.1599\n",
      "Epoch: 4/10, Step 200/1200, Loss = 0.0105\n",
      "Epoch: 4/10, Step 300/1200, Loss = 0.1681\n",
      "Epoch: 4/10, Step 400/1200, Loss = 0.0274\n",
      "Epoch: 4/10, Step 500/1200, Loss = 0.0107\n",
      "Epoch: 4/10, Step 600/1200, Loss = 0.0108\n",
      "Epoch: 4/10, Step 700/1200, Loss = 0.1915\n",
      "Epoch: 4/10, Step 800/1200, Loss = 0.0941\n",
      "Epoch: 4/10, Step 900/1200, Loss = 0.0536\n",
      "Epoch: 4/10, Step 1000/1200, Loss = 0.2261\n",
      "Epoch: 4/10, Step 1100/1200, Loss = 0.0114\n",
      "Epoch: 4/10, Step 1200/1200, Loss = 0.0113\n",
      "Epoch: 5/10, Step 100/1200, Loss = 0.0629\n",
      "Epoch: 5/10, Step 200/1200, Loss = 0.1294\n",
      "Epoch: 5/10, Step 300/1200, Loss = 0.0601\n",
      "Epoch: 5/10, Step 400/1200, Loss = 0.1251\n",
      "Epoch: 5/10, Step 500/1200, Loss = 0.0233\n",
      "Epoch: 5/10, Step 600/1200, Loss = 0.0426\n",
      "Epoch: 5/10, Step 700/1200, Loss = 0.0978\n",
      "Epoch: 5/10, Step 800/1200, Loss = 0.0974\n",
      "Epoch: 5/10, Step 900/1200, Loss = 0.1463\n",
      "Epoch: 5/10, Step 1000/1200, Loss = 0.0880\n",
      "Epoch: 5/10, Step 1100/1200, Loss = 0.0306\n",
      "Epoch: 5/10, Step 1200/1200, Loss = 0.0478\n",
      "Epoch: 6/10, Step 100/1200, Loss = 0.0097\n",
      "Epoch: 6/10, Step 200/1200, Loss = 0.0253\n",
      "Epoch: 6/10, Step 300/1200, Loss = 0.0914\n",
      "Epoch: 6/10, Step 400/1200, Loss = 0.0079\n",
      "Epoch: 6/10, Step 500/1200, Loss = 0.0844\n",
      "Epoch: 6/10, Step 600/1200, Loss = 0.0307\n",
      "Epoch: 6/10, Step 700/1200, Loss = 0.0327\n",
      "Epoch: 6/10, Step 800/1200, Loss = 0.0540\n",
      "Epoch: 6/10, Step 900/1200, Loss = 0.0699\n",
      "Epoch: 6/10, Step 1000/1200, Loss = 0.0079\n",
      "Epoch: 6/10, Step 1100/1200, Loss = 0.0135\n",
      "Epoch: 6/10, Step 1200/1200, Loss = 0.0047\n",
      "Epoch: 7/10, Step 100/1200, Loss = 0.0509\n",
      "Epoch: 7/10, Step 200/1200, Loss = 0.0097\n",
      "Epoch: 7/10, Step 300/1200, Loss = 0.0284\n",
      "Epoch: 7/10, Step 400/1200, Loss = 0.0117\n",
      "Epoch: 7/10, Step 500/1200, Loss = 0.0836\n",
      "Epoch: 7/10, Step 600/1200, Loss = 0.0099\n",
      "Epoch: 7/10, Step 700/1200, Loss = 0.0908\n",
      "Epoch: 7/10, Step 800/1200, Loss = 0.0837\n",
      "Epoch: 7/10, Step 900/1200, Loss = 0.0054\n",
      "Epoch: 7/10, Step 1000/1200, Loss = 0.0009\n",
      "Epoch: 7/10, Step 1100/1200, Loss = 0.0292\n",
      "Epoch: 7/10, Step 1200/1200, Loss = 0.0053\n",
      "Epoch: 8/10, Step 100/1200, Loss = 0.0039\n",
      "Epoch: 8/10, Step 200/1200, Loss = 0.0138\n",
      "Epoch: 8/10, Step 300/1200, Loss = 0.0431\n",
      "Epoch: 8/10, Step 400/1200, Loss = 0.0088\n",
      "Epoch: 8/10, Step 500/1200, Loss = 0.0053\n",
      "Epoch: 8/10, Step 600/1200, Loss = 0.0481\n",
      "Epoch: 8/10, Step 700/1200, Loss = 0.0110\n",
      "Epoch: 8/10, Step 800/1200, Loss = 0.0047\n",
      "Epoch: 8/10, Step 900/1200, Loss = 0.0046\n",
      "Epoch: 8/10, Step 1000/1200, Loss = 0.0020\n",
      "Epoch: 8/10, Step 1100/1200, Loss = 0.0093\n",
      "Epoch: 8/10, Step 1200/1200, Loss = 0.0076\n",
      "Epoch: 9/10, Step 100/1200, Loss = 0.0054\n",
      "Epoch: 9/10, Step 200/1200, Loss = 0.0029\n",
      "Epoch: 9/10, Step 300/1200, Loss = 0.0269\n",
      "Epoch: 9/10, Step 400/1200, Loss = 0.0028\n",
      "Epoch: 9/10, Step 500/1200, Loss = 0.0051\n",
      "Epoch: 9/10, Step 600/1200, Loss = 0.0903\n",
      "Epoch: 9/10, Step 700/1200, Loss = 0.0313\n",
      "Epoch: 9/10, Step 800/1200, Loss = 0.0137\n",
      "Epoch: 9/10, Step 900/1200, Loss = 0.0050\n",
      "Epoch: 9/10, Step 1000/1200, Loss = 0.0139\n",
      "Epoch: 9/10, Step 1100/1200, Loss = 0.0446\n",
      "Epoch: 9/10, Step 1200/1200, Loss = 0.0380\n",
      "Epoch: 10/10, Step 100/1200, Loss = 0.0266\n",
      "Epoch: 10/10, Step 200/1200, Loss = 0.0123\n",
      "Epoch: 10/10, Step 300/1200, Loss = 0.0160\n",
      "Epoch: 10/10, Step 400/1200, Loss = 0.0049\n",
      "Epoch: 10/10, Step 500/1200, Loss = 0.0984\n",
      "Epoch: 10/10, Step 600/1200, Loss = 0.0073\n",
      "Epoch: 10/10, Step 700/1200, Loss = 0.0005\n",
      "Epoch: 10/10, Step 800/1200, Loss = 0.0060\n",
      "Epoch: 10/10, Step 900/1200, Loss = 0.0636\n",
      "Epoch: 10/10, Step 1000/1200, Loss = 0.0035\n",
      "Epoch: 10/10, Step 1100/1200, Loss = 0.0366\n",
      "Epoch: 10/10, Step 1200/1200, Loss = 0.1058\n"
     ]
    }
   ],
   "source": [
    "# Training loop\n",
    "\n",
    "total_steps = len(training_loader)\n",
    "for epoch in range(num_epochs):\n",
    "    for i, (image, number) in enumerate(training_loader):\n",
    "        image = image.reshape(-1,in_size).to(device)\n",
    "        number = number.to(device)\n",
    "\n",
    "        # forward pass\n",
    "        output = Neural_network(image)\n",
    "        loss_calculated = loss(output, number)\n",
    "\n",
    "        # backward pass\n",
    "        optimizer.zero_grad()\n",
    "        loss_calculated.backward()\n",
    "        optimizer.step()\n",
    "\n",
    "        # printing progress\n",
    "        if (i+1) % 100 == 0 :\n",
    "            print(f'Epoch: {epoch+1}/{num_epochs}, Step {i+1}/{total_steps}, Loss = {loss_calculated:.4f}')"
   ]
  },
  {
   "cell_type": "code",
   "execution_count": 58,
   "metadata": {},
   "outputs": [
    {
     "name": "stdout",
     "output_type": "stream",
     "text": [
      "Accuracy = 99.4767 %\n"
     ]
    }
   ],
   "source": [
    "# testing\n",
    "\n",
    "correct = 0\n",
    "total = 0\n",
    "with torch.no_grad():\n",
    "    for image, number in training_loader:\n",
    "        image = image.reshape(-1,in_size).to(device)\n",
    "        number = number.to(device)\n",
    "        output = Neural_network(image)\n",
    "\n",
    "        _, predicted = torch.max(output, 1)\n",
    "\n",
    "        correct += (predicted==number).sum()\n",
    "        total += number.shape[0]\n",
    "    \n",
    "    acc = 100.0 * correct / total\n",
    "\n",
    "print(f'Accuracy = {acc:.4f} %')"
   ]
  }
 ],
 "metadata": {
  "kernelspec": {
   "display_name": "Python 3",
   "language": "python",
   "name": "python3"
  },
  "language_info": {
   "codemirror_mode": {
    "name": "ipython",
    "version": 3
   },
   "file_extension": ".py",
   "mimetype": "text/x-python",
   "name": "python",
   "nbconvert_exporter": "python",
   "pygments_lexer": "ipython3",
   "version": "3.11.9"
  }
 },
 "nbformat": 4,
 "nbformat_minor": 2
}
