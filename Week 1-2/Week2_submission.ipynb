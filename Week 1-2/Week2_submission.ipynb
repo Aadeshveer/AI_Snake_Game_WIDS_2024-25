{
 "cells": [
  {
   "cell_type": "code",
   "execution_count": 1,
   "metadata": {},
   "outputs": [],
   "source": [
    "# importing required libraries\n",
    "\n",
    "import torch\n",
    "import torch.nn as nn\n",
    "import torchvision\n",
    "import torchvision.transforms as transfroms"
   ]
  },
  {
   "cell_type": "code",
   "execution_count": 2,
   "metadata": {},
   "outputs": [],
   "source": [
    "# device setting\n",
    "\n",
    "device = torch.device('cuda' if torch.cuda.is_available else 'cpu')"
   ]
  },
  {
   "cell_type": "code",
   "execution_count": 3,
   "metadata": {},
   "outputs": [],
   "source": [
    "# hyper parameters\n",
    "\n",
    "in_size = 28*28 # image size\n",
    "out_size = 10 # output possibilities\n",
    "num_epochs = 10 # number of times training loop is run\n",
    "batch_size = 50 # images used to train in one batch\n",
    "learning_rate = 0.001 # Learning rate"
   ]
  },
  {
   "cell_type": "code",
   "execution_count": 4,
   "metadata": {},
   "outputs": [
    {
     "name": "stdout",
     "output_type": "stream",
     "text": [
      "Downloading http://yann.lecun.com/exdb/mnist/train-images-idx3-ubyte.gz\n",
      "Failed to download (trying next):\n",
      "HTTP Error 403: Forbidden\n",
      "\n",
      "Downloading https://ossci-datasets.s3.amazonaws.com/mnist/train-images-idx3-ubyte.gz\n",
      "Downloading https://ossci-datasets.s3.amazonaws.com/mnist/train-images-idx3-ubyte.gz to ./data\\MNIST\\raw\\train-images-idx3-ubyte.gz\n"
     ]
    },
    {
     "name": "stderr",
     "output_type": "stream",
     "text": [
      "100.0%\n"
     ]
    },
    {
     "name": "stdout",
     "output_type": "stream",
     "text": [
      "Extracting ./data\\MNIST\\raw\\train-images-idx3-ubyte.gz to ./data\\MNIST\\raw\n",
      "\n",
      "Downloading http://yann.lecun.com/exdb/mnist/train-labels-idx1-ubyte.gz\n",
      "Failed to download (trying next):\n",
      "HTTP Error 403: Forbidden\n",
      "\n",
      "Downloading https://ossci-datasets.s3.amazonaws.com/mnist/train-labels-idx1-ubyte.gz\n",
      "Downloading https://ossci-datasets.s3.amazonaws.com/mnist/train-labels-idx1-ubyte.gz to ./data\\MNIST\\raw\\train-labels-idx1-ubyte.gz\n"
     ]
    },
    {
     "name": "stderr",
     "output_type": "stream",
     "text": [
      "100.0%\n"
     ]
    },
    {
     "name": "stdout",
     "output_type": "stream",
     "text": [
      "Extracting ./data\\MNIST\\raw\\train-labels-idx1-ubyte.gz to ./data\\MNIST\\raw\n",
      "\n",
      "Downloading http://yann.lecun.com/exdb/mnist/t10k-images-idx3-ubyte.gz\n",
      "Failed to download (trying next):\n",
      "HTTP Error 403: Forbidden\n",
      "\n",
      "Downloading https://ossci-datasets.s3.amazonaws.com/mnist/t10k-images-idx3-ubyte.gz\n",
      "Downloading https://ossci-datasets.s3.amazonaws.com/mnist/t10k-images-idx3-ubyte.gz to ./data\\MNIST\\raw\\t10k-images-idx3-ubyte.gz\n"
     ]
    },
    {
     "name": "stderr",
     "output_type": "stream",
     "text": [
      "100.0%\n"
     ]
    },
    {
     "name": "stdout",
     "output_type": "stream",
     "text": [
      "Extracting ./data\\MNIST\\raw\\t10k-images-idx3-ubyte.gz to ./data\\MNIST\\raw\n",
      "\n",
      "Downloading http://yann.lecun.com/exdb/mnist/t10k-labels-idx1-ubyte.gz\n",
      "Failed to download (trying next):\n",
      "HTTP Error 403: Forbidden\n",
      "\n",
      "Downloading https://ossci-datasets.s3.amazonaws.com/mnist/t10k-labels-idx1-ubyte.gz\n",
      "Downloading https://ossci-datasets.s3.amazonaws.com/mnist/t10k-labels-idx1-ubyte.gz to ./data\\MNIST\\raw\\t10k-labels-idx1-ubyte.gz\n"
     ]
    },
    {
     "name": "stderr",
     "output_type": "stream",
     "text": [
      "100.0%\n"
     ]
    },
    {
     "name": "stdout",
     "output_type": "stream",
     "text": [
      "Extracting ./data\\MNIST\\raw\\t10k-labels-idx1-ubyte.gz to ./data\\MNIST\\raw\n",
      "\n"
     ]
    }
   ],
   "source": [
    "# importing MNIST dataset\n",
    "\n",
    "training_data = torchvision.datasets.MNIST(root='./data', train= True, transform=transfroms.ToTensor(), download=True)\n",
    "testing_data = torchvision.datasets.MNIST(root='./data', train= False, transform=transfroms.ToTensor(), download=True)\n",
    "training_loader = torch.utils.data.DataLoader(dataset=training_data, shuffle=True, batch_size=batch_size)\n",
    "testing_loader = torch.utils.data.DataLoader(dataset=testing_data, shuffle=False, batch_size=batch_size)"
   ]
  },
  {
   "cell_type": "code",
   "execution_count": 5,
   "metadata": {},
   "outputs": [],
   "source": [
    "# defining network\n",
    "\n",
    "class Network(nn.Module):\n",
    "    def __init__(self, in_size, out_size):\n",
    "        super(Network,self).__init__()\n",
    "        self.layer1 = nn.Linear(in_size, 128)\n",
    "        self.layer2 = nn.Linear(128, 64)\n",
    "        self.layer3 = nn.Linear(64, out_size)\n",
    "\n",
    "    def forward(self, x):\n",
    "        out = nn.functional.relu(self.layer1(x))\n",
    "        out = nn.functional.relu(self.layer2(out))\n",
    "        out = self.layer3(out)\n",
    "        return out"
   ]
  },
  {
   "cell_type": "code",
   "execution_count": 6,
   "metadata": {},
   "outputs": [],
   "source": [
    "# initializing the network\n",
    "\n",
    "Neural_network = Network(in_size, out_size).to(device)"
   ]
  },
  {
   "cell_type": "code",
   "execution_count": 7,
   "metadata": {},
   "outputs": [],
   "source": [
    "# loss\n",
    "\n",
    "loss = nn.CrossEntropyLoss()"
   ]
  },
  {
   "cell_type": "code",
   "execution_count": 8,
   "metadata": {},
   "outputs": [],
   "source": [
    "# Optimizer\n",
    "\n",
    "optimizer = torch.optim.Adam(Neural_network.parameters(),lr = learning_rate)"
   ]
  },
  {
   "cell_type": "code",
   "execution_count": 9,
   "metadata": {},
   "outputs": [
    {
     "name": "stdout",
     "output_type": "stream",
     "text": [
      "Epoch: 1/10, Step 100/1200, Loss = 0.3314\n",
      "Epoch: 1/10, Step 200/1200, Loss = 0.2815\n",
      "Epoch: 1/10, Step 300/1200, Loss = 0.3241\n",
      "Epoch: 1/10, Step 400/1200, Loss = 0.3224\n",
      "Epoch: 1/10, Step 500/1200, Loss = 0.2103\n",
      "Epoch: 1/10, Step 600/1200, Loss = 0.1829\n",
      "Epoch: 1/10, Step 700/1200, Loss = 0.1337\n",
      "Epoch: 1/10, Step 800/1200, Loss = 0.1259\n",
      "Epoch: 1/10, Step 900/1200, Loss = 0.1108\n",
      "Epoch: 1/10, Step 1000/1200, Loss = 0.0617\n",
      "Epoch: 1/10, Step 1100/1200, Loss = 0.2389\n",
      "Epoch: 1/10, Step 1200/1200, Loss = 0.1600\n",
      "Epoch: 2/10, Step 100/1200, Loss = 0.2077\n",
      "Epoch: 2/10, Step 200/1200, Loss = 0.2764\n",
      "Epoch: 2/10, Step 300/1200, Loss = 0.0936\n",
      "Epoch: 2/10, Step 400/1200, Loss = 0.1038\n",
      "Epoch: 2/10, Step 500/1200, Loss = 0.1038\n",
      "Epoch: 2/10, Step 600/1200, Loss = 0.1953\n",
      "Epoch: 2/10, Step 700/1200, Loss = 0.0539\n",
      "Epoch: 2/10, Step 800/1200, Loss = 0.0797\n",
      "Epoch: 2/10, Step 900/1200, Loss = 0.0806\n",
      "Epoch: 2/10, Step 1000/1200, Loss = 0.0793\n",
      "Epoch: 2/10, Step 1100/1200, Loss = 0.0928\n",
      "Epoch: 2/10, Step 1200/1200, Loss = 0.1094\n",
      "Epoch: 3/10, Step 100/1200, Loss = 0.1156\n",
      "Epoch: 3/10, Step 200/1200, Loss = 0.0942\n",
      "Epoch: 3/10, Step 300/1200, Loss = 0.0695\n",
      "Epoch: 3/10, Step 400/1200, Loss = 0.2512\n",
      "Epoch: 3/10, Step 500/1200, Loss = 0.2089\n",
      "Epoch: 3/10, Step 600/1200, Loss = 0.0365\n",
      "Epoch: 3/10, Step 700/1200, Loss = 0.1630\n",
      "Epoch: 3/10, Step 800/1200, Loss = 0.0760\n",
      "Epoch: 3/10, Step 900/1200, Loss = 0.2363\n",
      "Epoch: 3/10, Step 1000/1200, Loss = 0.1875\n",
      "Epoch: 3/10, Step 1100/1200, Loss = 0.0311\n",
      "Epoch: 3/10, Step 1200/1200, Loss = 0.0278\n",
      "Epoch: 4/10, Step 100/1200, Loss = 0.0414\n",
      "Epoch: 4/10, Step 200/1200, Loss = 0.0471\n",
      "Epoch: 4/10, Step 300/1200, Loss = 0.1476\n",
      "Epoch: 4/10, Step 400/1200, Loss = 0.0602\n",
      "Epoch: 4/10, Step 500/1200, Loss = 0.0575\n",
      "Epoch: 4/10, Step 600/1200, Loss = 0.0217\n",
      "Epoch: 4/10, Step 700/1200, Loss = 0.0482\n",
      "Epoch: 4/10, Step 800/1200, Loss = 0.0294\n",
      "Epoch: 4/10, Step 900/1200, Loss = 0.1103\n",
      "Epoch: 4/10, Step 1000/1200, Loss = 0.0131\n",
      "Epoch: 4/10, Step 1100/1200, Loss = 0.1072\n",
      "Epoch: 4/10, Step 1200/1200, Loss = 0.0415\n",
      "Epoch: 5/10, Step 100/1200, Loss = 0.0427\n",
      "Epoch: 5/10, Step 200/1200, Loss = 0.1088\n",
      "Epoch: 5/10, Step 300/1200, Loss = 0.0056\n",
      "Epoch: 5/10, Step 400/1200, Loss = 0.0052\n",
      "Epoch: 5/10, Step 500/1200, Loss = 0.1553\n",
      "Epoch: 5/10, Step 600/1200, Loss = 0.0248\n",
      "Epoch: 5/10, Step 700/1200, Loss = 0.0504\n",
      "Epoch: 5/10, Step 800/1200, Loss = 0.0432\n",
      "Epoch: 5/10, Step 900/1200, Loss = 0.0304\n",
      "Epoch: 5/10, Step 1000/1200, Loss = 0.0099\n",
      "Epoch: 5/10, Step 1100/1200, Loss = 0.0052\n",
      "Epoch: 5/10, Step 1200/1200, Loss = 0.1193\n",
      "Epoch: 6/10, Step 100/1200, Loss = 0.0019\n",
      "Epoch: 6/10, Step 200/1200, Loss = 0.0047\n",
      "Epoch: 6/10, Step 300/1200, Loss = 0.0708\n",
      "Epoch: 6/10, Step 400/1200, Loss = 0.0230\n",
      "Epoch: 6/10, Step 500/1200, Loss = 0.0284\n",
      "Epoch: 6/10, Step 600/1200, Loss = 0.0672\n",
      "Epoch: 6/10, Step 700/1200, Loss = 0.0032\n",
      "Epoch: 6/10, Step 800/1200, Loss = 0.0830\n",
      "Epoch: 6/10, Step 900/1200, Loss = 0.0160\n",
      "Epoch: 6/10, Step 1000/1200, Loss = 0.0159\n",
      "Epoch: 6/10, Step 1100/1200, Loss = 0.1587\n",
      "Epoch: 6/10, Step 1200/1200, Loss = 0.0021\n",
      "Epoch: 7/10, Step 100/1200, Loss = 0.0140\n",
      "Epoch: 7/10, Step 200/1200, Loss = 0.0154\n",
      "Epoch: 7/10, Step 300/1200, Loss = 0.1091\n",
      "Epoch: 7/10, Step 400/1200, Loss = 0.0149\n",
      "Epoch: 7/10, Step 500/1200, Loss = 0.0085\n",
      "Epoch: 7/10, Step 600/1200, Loss = 0.0294\n",
      "Epoch: 7/10, Step 700/1200, Loss = 0.0443\n",
      "Epoch: 7/10, Step 800/1200, Loss = 0.0152\n",
      "Epoch: 7/10, Step 900/1200, Loss = 0.0234\n",
      "Epoch: 7/10, Step 1000/1200, Loss = 0.0046\n",
      "Epoch: 7/10, Step 1100/1200, Loss = 0.0204\n",
      "Epoch: 7/10, Step 1200/1200, Loss = 0.0888\n",
      "Epoch: 8/10, Step 100/1200, Loss = 0.0037\n",
      "Epoch: 8/10, Step 200/1200, Loss = 0.0126\n",
      "Epoch: 8/10, Step 300/1200, Loss = 0.0487\n",
      "Epoch: 8/10, Step 400/1200, Loss = 0.0260\n",
      "Epoch: 8/10, Step 500/1200, Loss = 0.0008\n",
      "Epoch: 8/10, Step 600/1200, Loss = 0.0017\n",
      "Epoch: 8/10, Step 700/1200, Loss = 0.0083\n",
      "Epoch: 8/10, Step 800/1200, Loss = 0.0049\n",
      "Epoch: 8/10, Step 900/1200, Loss = 0.0197\n",
      "Epoch: 8/10, Step 1000/1200, Loss = 0.0132\n",
      "Epoch: 8/10, Step 1100/1200, Loss = 0.0660\n",
      "Epoch: 8/10, Step 1200/1200, Loss = 0.2030\n",
      "Epoch: 9/10, Step 100/1200, Loss = 0.0384\n",
      "Epoch: 9/10, Step 200/1200, Loss = 0.0291\n",
      "Epoch: 9/10, Step 300/1200, Loss = 0.0114\n",
      "Epoch: 9/10, Step 400/1200, Loss = 0.0139\n",
      "Epoch: 9/10, Step 500/1200, Loss = 0.0027\n",
      "Epoch: 9/10, Step 600/1200, Loss = 0.0067\n",
      "Epoch: 9/10, Step 700/1200, Loss = 0.0055\n",
      "Epoch: 9/10, Step 800/1200, Loss = 0.0116\n",
      "Epoch: 9/10, Step 900/1200, Loss = 0.0063\n",
      "Epoch: 9/10, Step 1000/1200, Loss = 0.0429\n",
      "Epoch: 9/10, Step 1100/1200, Loss = 0.0343\n",
      "Epoch: 9/10, Step 1200/1200, Loss = 0.0126\n",
      "Epoch: 10/10, Step 100/1200, Loss = 0.0476\n",
      "Epoch: 10/10, Step 200/1200, Loss = 0.0015\n",
      "Epoch: 10/10, Step 300/1200, Loss = 0.0199\n",
      "Epoch: 10/10, Step 400/1200, Loss = 0.0038\n",
      "Epoch: 10/10, Step 500/1200, Loss = 0.0105\n",
      "Epoch: 10/10, Step 600/1200, Loss = 0.0059\n",
      "Epoch: 10/10, Step 700/1200, Loss = 0.0045\n",
      "Epoch: 10/10, Step 800/1200, Loss = 0.0079\n",
      "Epoch: 10/10, Step 900/1200, Loss = 0.0006\n",
      "Epoch: 10/10, Step 1000/1200, Loss = 0.0152\n",
      "Epoch: 10/10, Step 1100/1200, Loss = 0.0088\n",
      "Epoch: 10/10, Step 1200/1200, Loss = 0.0265\n"
     ]
    }
   ],
   "source": [
    "# Training loop\n",
    "\n",
    "total_steps = len(training_loader)\n",
    "for epoch in range(num_epochs):\n",
    "    for i, (image, number) in enumerate(training_loader):\n",
    "        image = image.reshape(-1,in_size).to(device)\n",
    "        number = number.to(device)\n",
    "\n",
    "        # forward pass\n",
    "        output = Neural_network(image)\n",
    "        loss_calculated = loss(output, number)\n",
    "\n",
    "        # backward pass\n",
    "        optimizer.zero_grad()\n",
    "        loss_calculated.backward()\n",
    "        optimizer.step()\n",
    "\n",
    "        # printing progress\n",
    "        if (i+1) % 100 == 0 :\n",
    "            print(f'Epoch: {epoch+1}/{num_epochs}, Step {i+1}/{total_steps}, Loss = {loss_calculated:.4f}')"
   ]
  },
  {
   "cell_type": "code",
   "execution_count": 10,
   "metadata": {},
   "outputs": [
    {
     "name": "stdout",
     "output_type": "stream",
     "text": [
      "Accuracy = 99.5800 %\n"
     ]
    }
   ],
   "source": [
    "# testing\n",
    "\n",
    "correct = 0\n",
    "total = 0\n",
    "with torch.no_grad():\n",
    "    for image, number in training_loader:\n",
    "        image = image.reshape(-1,in_size).to(device)\n",
    "        number = number.to(device)\n",
    "        output = Neural_network(image)\n",
    "\n",
    "        _, predicted = torch.max(output, 1)\n",
    "\n",
    "        correct += (predicted==number).sum()\n",
    "        total += number.shape[0]\n",
    "    \n",
    "    acc = 100.0 * correct / total\n",
    "\n",
    "print(f'Accuracy = {acc:.4f} %')"
   ]
  }
 ],
 "metadata": {
  "kernelspec": {
   "display_name": "Python 3",
   "language": "python",
   "name": "python3"
  },
  "language_info": {
   "codemirror_mode": {
    "name": "ipython",
    "version": 3
   },
   "file_extension": ".py",
   "mimetype": "text/x-python",
   "name": "python",
   "nbconvert_exporter": "python",
   "pygments_lexer": "ipython3",
   "version": "3.11.9"
  }
 },
 "nbformat": 4,
 "nbformat_minor": 2
}
